{
  "nbformat": 4,
  "nbformat_minor": 0,
  "metadata": {
    "colab": {
      "provenance": [],
      "include_colab_link": true
    },
    "kernelspec": {
      "name": "python3",
      "display_name": "Python 3"
    },
    "language_info": {
      "name": "python"
    }
  },
  "cells": [
    {
      "cell_type": "markdown",
      "metadata": {
        "id": "view-in-github",
        "colab_type": "text"
      },
      "source": [
        "<a href=\"https://colab.research.google.com/github/VladMarianciuc/Artificial-Intelligence-Course/blob/main/Laborator_1.ipynb\" target=\"_parent\"><img src=\"https://colab.research.google.com/assets/colab-badge.svg\" alt=\"Open In Colab\"/></a>"
      ]
    },
    {
      "cell_type": "code",
      "source": [
        "print(\"Hello world\")"
      ],
      "metadata": {
        "colab": {
          "base_uri": "https://localhost:8080/"
        },
        "id": "PbqKGypNiLd-",
        "outputId": "2912b7e4-a575-420c-9796-db812058c5a6"
      },
      "execution_count": null,
      "outputs": [
        {
          "output_type": "stream",
          "name": "stdout",
          "text": [
            "Hello world\n"
          ]
        }
      ]
    },
    {
      "cell_type": "code",
      "source": [
        "print(\"hello again, world\")\n",
        "print(x)"
      ],
      "metadata": {
        "colab": {
          "base_uri": "https://localhost:8080/"
        },
        "id": "HhtEOaX8Ycnt",
        "outputId": "8b0c8a84-b85c-4698-a5ce-9eb4fb2149ac"
      },
      "execution_count": null,
      "outputs": [
        {
          "output_type": "stream",
          "name": "stdout",
          "text": [
            "hello again, world\n",
            "3\n"
          ]
        }
      ]
    },
    {
      "cell_type": "markdown",
      "source": [
        "## Variabile"
      ],
      "metadata": {
        "id": "vu3uCi4GhDoh"
      }
    },
    {
      "cell_type": "markdown",
      "source": [
        "### Atribuirea de valori unei variabile\n",
        "\n",
        "Ii atribuim lui x valoarea 3. Nu este necesar sa il declaram pe x anterior sau sa ii declaram un tip de date."
      ],
      "metadata": {
        "id": "5_F5C2pVhUVQ"
      }
    },
    {
      "cell_type": "code",
      "execution_count": null,
      "metadata": {
        "id": "7kZ7tlChYAiL"
      },
      "outputs": [],
      "source": [
        "x = 3"
      ]
    },
    {
      "cell_type": "markdown",
      "source": [
        "###Afisarea valorii unei variabile\n",
        "\n",
        "Functia `print()`"
      ],
      "metadata": {
        "id": "QIunKOH7haAp"
      }
    },
    {
      "cell_type": "code",
      "source": [
        "print(x)"
      ],
      "metadata": {
        "colab": {
          "base_uri": "https://localhost:8080/"
        },
        "id": "jZhpI6LHhTQ8",
        "outputId": "ef93cc1d-04fc-4ba9-eaa0-114d13884480"
      },
      "execution_count": null,
      "outputs": [
        {
          "output_type": "stream",
          "name": "stdout",
          "text": [
            "3\n"
          ]
        }
      ]
    },
    {
      "cell_type": "markdown",
      "source": [
        "### Constante (literali). Separarea instructiunilor in Python\n",
        "\n",
        "Putem folosi si valori constante sau literali, fara sa fie nevoie sa le stocam intr-o variabila. Afisarea si alte operatii functioneaza la fel (dar nu putem sa atribuim o valoare unui literal).\n",
        "\n",
        "Instructiunile se separa in Python prin spatii albe (linie noua). Nu e nevoie de alti delimitatori intre instructiuni (cum ar fi `;`). Spatiile albe au semnificatie, de exemplu daca adaugam spatii la inceputul unei instructiuni ea va fi interpretata altfel (de obicei e nevoie de spatii inaintea instructiunilor imbricate, altfel vom primi eroare; vedem mai jos)"
      ],
      "metadata": {
        "id": "JwgqfgiRhxkN"
      }
    },
    {
      "cell_type": "code",
      "source": [
        "print(3)\n",
        "print(\"X\")\n",
        "print(\"Hello world\")\n",
        "print(3.14)\n",
        "print(x)\n",
        "#print(x, \"=\", 3.14)\n",
        "\n",
        "\n",
        "cuvant = \"pisica\"\n",
        "print(cuvant)\n"
      ],
      "metadata": {
        "colab": {
          "base_uri": "https://localhost:8080/"
        },
        "id": "qSKl1PkMhCo2",
        "outputId": "3f1d4f6b-5971-40ec-999f-27409bfd6bc9"
      },
      "execution_count": null,
      "outputs": [
        {
          "output_type": "stream",
          "name": "stdout",
          "text": [
            "3\n",
            "X\n",
            "Hello world\n",
            "3.14\n",
            "3\n",
            "pisica\n"
          ]
        }
      ]
    },
    {
      "cell_type": "markdown",
      "source": [
        "### Comentarii\n",
        "\n",
        "Comentariile in Python incep cu caracterul `#`. Orice apare dupa acest caracter va fi ignorat. Sunt folosite pentru a ajuta la claritatea codului, cu mesaje pentru alti dezvoltatori care il citesc (sau pentru noi insine in viitor).\n",
        "\n"
      ],
      "metadata": {
        "id": "B4ezUtImhB72"
      }
    },
    {
      "cell_type": "code",
      "source": [
        "# Mai jos afisam variabila x.\n",
        "print(x) # comentariul nu va avea niciun efect"
      ],
      "metadata": {
        "colab": {
          "base_uri": "https://localhost:8080/"
        },
        "id": "AoUsZN4Cjeww",
        "outputId": "4f8a48ac-aeb3-42fb-9db7-375a864637f8"
      },
      "execution_count": null,
      "outputs": [
        {
          "output_type": "stream",
          "name": "stdout",
          "text": [
            "3\n"
          ]
        }
      ]
    },
    {
      "cell_type": "markdown",
      "source": [
        "## Tipuri de date\n",
        "\n",
        "Implicit, variabilele in Python au tipuri (ele nu trebuie sa fie declarate, ci vor fi deduse implicit din context). Pot fi intregi (int), numere reale (float), valori de adevar (book), caractere, siruri de caractere, liste... \n",
        "Putem afla tipul unei variabile folosind functia `type()`."
      ],
      "metadata": {
        "id": "QX0ZVlwQjA-C"
      }
    },
    {
      "cell_type": "code",
      "source": [
        "# Intregi\n",
        "x = 89\n",
        "print(x)\n",
        "print(type(x))"
      ],
      "metadata": {
        "colab": {
          "base_uri": "https://localhost:8080/"
        },
        "id": "2fD6vM3rjPVb",
        "outputId": "d02c8d01-0bc7-45dd-907e-5d286a331ac3"
      },
      "execution_count": null,
      "outputs": [
        {
          "output_type": "stream",
          "name": "stdout",
          "text": [
            "89\n",
            "<class 'int'>\n"
          ]
        }
      ]
    },
    {
      "cell_type": "code",
      "source": [
        "# Numere reale\n",
        "x = 45.6\n",
        "print(x)\n",
        "print(\"Tipul lui x este acum\", type(x))"
      ],
      "metadata": {
        "colab": {
          "base_uri": "https://localhost:8080/"
        },
        "id": "x1lz4VJ0kxie",
        "outputId": "a3fa463a-9976-4e82-dff6-f3faa0856c31"
      },
      "execution_count": null,
      "outputs": [
        {
          "output_type": "stream",
          "name": "stdout",
          "text": [
            "45.6\n",
            "Tipul lui x este acum <class 'float'>\n"
          ]
        }
      ]
    },
    {
      "cell_type": "code",
      "source": [
        "# Booleene\n",
        "b = True\n",
        "print(\"Valoarea lui b este \", b, \" si tipul lui este \", type(b))"
      ],
      "metadata": {
        "colab": {
          "base_uri": "https://localhost:8080/"
        },
        "id": "QIaq7LnblKij",
        "outputId": "0cf0cb92-1a4f-43ab-d555-f8d3daed8885"
      },
      "execution_count": null,
      "outputs": [
        {
          "output_type": "stream",
          "name": "stdout",
          "text": [
            "Valoarea lui b este  True  si tipul lui este  <class 'bool'>\n"
          ]
        }
      ]
    },
    {
      "cell_type": "code",
      "source": [
        "# Caractere si siruri de caractere - tipul str\n",
        "# Sunt delimitate de apostrof sau ghilimele (indiferent - unul dintre putinele limbaje unde ' si \" pot fi folosite interschimbabil, toate au tip str)\n",
        "c1 = 'A'\n",
        "s1 = 'ABC'\n",
        "c2 = \"a\"\n",
        "s2 = \"abc\"\n",
        "print(c1, c2, s1, s2)\n",
        "print(type(c1), type(c2))\n",
        "print(type(s1), type(s2))"
      ],
      "metadata": {
        "colab": {
          "base_uri": "https://localhost:8080/"
        },
        "id": "ixajNFlHlXT1",
        "outputId": "1f8aca51-9d93-42e3-a590-8f9f048e2bb5"
      },
      "execution_count": null,
      "outputs": [
        {
          "output_type": "stream",
          "name": "stdout",
          "text": [
            "A a ABC abc\n",
            "<class 'str'> <class 'str'>\n",
            "<class 'str'> <class 'str'>\n"
          ]
        }
      ]
    },
    {
      "cell_type": "markdown",
      "source": [
        "## Operatori\n",
        "\n",
        "Operatorii pot fi folositi pentru a aplica operatii intre variabile sau constante. Operanzii trebuie sa aiba tipuri compatibile.\n",
        "\n",
        "Operatori aritmetici: + - * / // % **\n",
        "\n",
        "Operatori de comparatie: > < >= <= == !=\n",
        "\n",
        "Operatori logici: or and not\n",
        "\n",
        "Operatori de atribuire: = *= -= += /=\n",
        "\n",
        "Lista completa: https://www.tutorialspoint.com/python/python_basic_operators.htm"
      ],
      "metadata": {
        "id": "VQ4OSKlBjtga"
      }
    },
    {
      "cell_type": "code",
      "source": [
        "print(1.2 - 7.89)\n",
        "print(14 * 2)"
      ],
      "metadata": {
        "colab": {
          "base_uri": "https://localhost:8080/"
        },
        "id": "1MuvWHeWMVIg",
        "outputId": "1fd5aada-3f21-46c6-d8d8-0553d2d6805f"
      },
      "execution_count": null,
      "outputs": [
        {
          "output_type": "stream",
          "name": "stdout",
          "text": [
            "-6.6899999999999995\n",
            "28\n"
          ]
        }
      ]
    },
    {
      "cell_type": "code",
      "source": [
        "print(1 / 2) # real number division\n",
        "print(1 // 2) # integer division (\"catul impartirii\")\n",
        "print(5 % 2) # modulus (\"restul impartirii\")"
      ],
      "metadata": {
        "colab": {
          "base_uri": "https://localhost:8080/"
        },
        "id": "2Jtakd63NH71",
        "outputId": "cbc3dc13-95c2-4780-e75c-a72dcfd06bac"
      },
      "execution_count": null,
      "outputs": [
        {
          "output_type": "stream",
          "name": "stdout",
          "text": [
            "0.5\n",
            "0\n",
            "1\n"
          ]
        }
      ]
    },
    {
      "cell_type": "code",
      "source": [
        "x = 5\n",
        "y = 7\n",
        "suma = x + y\n",
        "print(suma)"
      ],
      "metadata": {
        "colab": {
          "base_uri": "https://localhost:8080/"
        },
        "id": "oxKeHzXgmKdc",
        "outputId": "3ca51b2c-8707-4062-ba48-9114b3952965"
      },
      "execution_count": null,
      "outputs": [
        {
          "output_type": "stream",
          "name": "stdout",
          "text": [
            "12\n"
          ]
        }
      ]
    },
    {
      "cell_type": "code",
      "source": [
        "s1 = \"Un sir de \"\n",
        "s2 = \"caractere\"\n",
        "print(s1 + s2)"
      ],
      "metadata": {
        "colab": {
          "base_uri": "https://localhost:8080/"
        },
        "id": "in-0AzMSMNiE",
        "outputId": "b9780afa-f0e8-43ef-d101-b82766795b81"
      },
      "execution_count": null,
      "outputs": [
        {
          "output_type": "stream",
          "name": "stdout",
          "text": [
            "Un sir de caractere\n"
          ]
        }
      ]
    },
    {
      "cell_type": "code",
      "source": [
        "print(s1 - s2) # Error - cannot substract strings"
      ],
      "metadata": {
        "colab": {
          "base_uri": "https://localhost:8080/",
          "height": 172
        },
        "id": "Yq3gFNUUMu33",
        "outputId": "80e647f2-0455-457e-9333-09e1555370f5"
      },
      "execution_count": null,
      "outputs": [
        {
          "output_type": "error",
          "ename": "TypeError",
          "evalue": "ignored",
          "traceback": [
            "\u001b[0;31m---------------------------------------------------------------------------\u001b[0m",
            "\u001b[0;31mTypeError\u001b[0m                                 Traceback (most recent call last)",
            "\u001b[0;32m<ipython-input-27-83a236a146ff>\u001b[0m in \u001b[0;36m<module>\u001b[0;34m()\u001b[0m\n\u001b[0;32m----> 1\u001b[0;31m \u001b[0mprint\u001b[0m\u001b[0;34m(\u001b[0m\u001b[0ms1\u001b[0m \u001b[0;34m-\u001b[0m \u001b[0ms2\u001b[0m\u001b[0;34m)\u001b[0m\u001b[0;34m\u001b[0m\u001b[0;34m\u001b[0m\u001b[0m\n\u001b[0m",
            "\u001b[0;31mTypeError\u001b[0m: unsupported operand type(s) for -: 'str' and 'str'"
          ]
        }
      ]
    },
    {
      "cell_type": "code",
      "source": [
        "print(\"x to the power of 3 is \", x**3)"
      ],
      "metadata": {
        "colab": {
          "base_uri": "https://localhost:8080/"
        },
        "id": "oCSbvozNOLCO",
        "outputId": "29e74c7b-83ba-4ec2-8a1f-87ea0bf6f6c4"
      },
      "execution_count": null,
      "outputs": [
        {
          "output_type": "stream",
          "name": "stdout",
          "text": [
            "x to the power of 3 is  125\n"
          ]
        }
      ]
    },
    {
      "cell_type": "markdown",
      "source": [
        "#### Expresii logice"
      ],
      "metadata": {
        "id": "m8uCoTBqNXDx"
      }
    },
    {
      "cell_type": "code",
      "source": [
        "x = 5\n",
        "print(\"x>7? \", x > 7) # greater than\n",
        "print(\"x=5? \", x == 5) # equal\n",
        "print(\"x!=3.2 \", x != 3.2) # not equal"
      ],
      "metadata": {
        "colab": {
          "base_uri": "https://localhost:8080/"
        },
        "id": "-G-1LHP4M1iE",
        "outputId": "a2b8d8a9-7283-459c-ca67-27ffb4c1580e"
      },
      "execution_count": null,
      "outputs": [
        {
          "output_type": "stream",
          "name": "stdout",
          "text": [
            "x>7?  False\n",
            "x=5?  True\n",
            "x!=3.2  True\n"
          ]
        }
      ]
    },
    {
      "cell_type": "code",
      "source": [
        "expr = (x < 7) and (x != 3)\n",
        "print(\"Is x smaller than 7 and different from 3? \", expr)"
      ],
      "metadata": {
        "colab": {
          "base_uri": "https://localhost:8080/"
        },
        "id": "8hVItvXyNVtz",
        "outputId": "43afe10e-b91c-4987-a976-1b36f0f05993"
      },
      "execution_count": null,
      "outputs": [
        {
          "output_type": "stream",
          "name": "stdout",
          "text": [
            "Is x smaller than 7 and different from 3?  True\n"
          ]
        }
      ]
    },
    {
      "cell_type": "code",
      "source": [
        "y = 23\n",
        "expr = (x > 7) or (x > y)\n",
        "print(\"Is x either larger than 7 or larger than y? \", expr)"
      ],
      "metadata": {
        "colab": {
          "base_uri": "https://localhost:8080/"
        },
        "id": "GYVuLXUBNEz6",
        "outputId": "969f7ea8-14f0-4cdf-fe11-39f704abe1c1"
      },
      "execution_count": null,
      "outputs": [
        {
          "output_type": "stream",
          "name": "stdout",
          "text": [
            "Is x either larger than 7 or larger than y?  False\n"
          ]
        }
      ]
    },
    {
      "cell_type": "markdown",
      "source": [
        "## Structuri de control"
      ],
      "metadata": {
        "id": "xdV26ceYPSsU"
      }
    },
    {
      "cell_type": "markdown",
      "source": [
        "#### Structuri decizionale: if...else...\n",
        "\n",
        "Apare formatarea imbricata cu spatiile albe indicand nivelul de adancime al instructiunii.\n",
        "\n",
        "    if <conditie logica> :\n",
        "        instr\n",
        "    [else:\n",
        "        instr]\n",
        "\n",
        "\n"
      ],
      "metadata": {
        "id": "lyv8gaQUaHIL"
      }
    },
    {
      "cell_type": "code",
      "source": [
        "x = 5\n",
        "if (x >= 10):\n",
        "  print(\"x has two digits\")  \n",
        "  print(\"mai printam ceva\")\n",
        "  print(\"inca ceva\")\n",
        "else:\n",
        "  print(\"x does not have two digits\")\n",
        "print(\"asta se va printa oricum\")"
      ],
      "metadata": {
        "colab": {
          "base_uri": "https://localhost:8080/"
        },
        "id": "eTD9CGW-aRIg",
        "outputId": "4485332e-0691-437f-8f0a-fe865f748626"
      },
      "execution_count": null,
      "outputs": [
        {
          "output_type": "stream",
          "name": "stdout",
          "text": [
            "x does not have two digits\n",
            "asta se va printa oricum\n"
          ]
        }
      ]
    },
    {
      "cell_type": "code",
      "source": [
        "a=398\n",
        "if (a < 10):\n",
        "    print(\"a has one digit\")\n",
        "elif (a < 100):\n",
        "    print(\"a has two digits\")\n",
        "elif (a < 1000):\n",
        "    print(\"a has three digits\")\n",
        "else:\n",
        "    print(\"a has more than three digits\")"
      ],
      "metadata": {
        "colab": {
          "base_uri": "https://localhost:8080/"
        },
        "id": "Eu1nkKlCQvdC",
        "outputId": "910e1b2a-e449-4384-bda3-a7d0d1d81d3a"
      },
      "execution_count": null,
      "outputs": [
        {
          "output_type": "stream",
          "name": "stdout",
          "text": [
            "a has three digits\n"
          ]
        }
      ]
    },
    {
      "cell_type": "markdown",
      "source": [
        "#### Bucle: \n",
        "while ...\n",
        "\n",
        "for ... "
      ],
      "metadata": {
        "id": "6sdRdpdvbK9p"
      }
    },
    {
      "cell_type": "code",
      "source": [
        "x = 50000\n",
        "while (x > 0):\n",
        "  x = x // 10\n",
        "  print(\"x=\", x)"
      ],
      "metadata": {
        "colab": {
          "base_uri": "https://localhost:8080/"
        },
        "id": "Yo2pJpHFbT6A",
        "outputId": "507dad4b-99a0-4e11-c880-6bf80cf0d449"
      },
      "execution_count": null,
      "outputs": [
        {
          "output_type": "stream",
          "name": "stdout",
          "text": [
            "x= 5000\n",
            "x= 500\n",
            "x= 50\n",
            "x= 5\n",
            "x= 0\n"
          ]
        }
      ]
    },
    {
      "cell_type": "code",
      "source": [
        "for i in range(5,11): #numerele de la 5 la 10\n",
        "  print (i)\n",
        "\n"
      ],
      "metadata": {
        "colab": {
          "base_uri": "https://localhost:8080/"
        },
        "id": "FEAepDu1dDAh",
        "outputId": "ba32aa79-a386-4690-f021-a750c80757ea"
      },
      "execution_count": null,
      "outputs": [
        {
          "output_type": "stream",
          "name": "stdout",
          "text": [
            "5\n",
            "6\n",
            "7\n",
            "8\n",
            "9\n",
            "10\n"
          ]
        }
      ]
    },
    {
      "cell_type": "code",
      "source": [
        "print(5)\n",
        "print(6)\n",
        "print(7)\n",
        "print(8)\n",
        "print(9)\n",
        "print(10)"
      ],
      "metadata": {
        "id": "Vp8vQ_MufyzZ"
      },
      "execution_count": null,
      "outputs": []
    },
    {
      "cell_type": "markdown",
      "source": [
        "## Colectii"
      ],
      "metadata": {
        "id": "Bg82WZAoQsw0"
      }
    },
    {
      "cell_type": "markdown",
      "source": [
        "#### String"
      ],
      "metadata": {
        "id": "h-lDCX3qeaaj"
      }
    },
    {
      "cell_type": "code",
      "source": [
        "hello = 'hello' \n",
        "world = \"world\"\n",
        "\n",
        "print(hello)\n",
        "print(len(hello)) # length of string\n"
      ],
      "metadata": {
        "colab": {
          "base_uri": "https://localhost:8080/"
        },
        "id": "Ac2-RABrecSH",
        "outputId": "d3c4c53d-6fcb-4528-c54f-f0f153a5d03b"
      },
      "execution_count": null,
      "outputs": [
        {
          "output_type": "stream",
          "name": "stdout",
          "text": [
            "hello\n",
            "5\n"
          ]
        }
      ]
    },
    {
      "cell_type": "code",
      "source": [
        "hw = hello + ' ' + world # string concatenation\n",
        "print(hw)\n"
      ],
      "metadata": {
        "colab": {
          "base_uri": "https://localhost:8080/",
          "height": 190
        },
        "id": "yUbXRTOaekYq",
        "outputId": "5a27217b-bcd3-4691-8356-3521cd370f1e"
      },
      "execution_count": null,
      "outputs": [
        {
          "output_type": "error",
          "ename": "NameError",
          "evalue": "ignored",
          "traceback": [
            "\u001b[0;31m---------------------------------------------------------------------------\u001b[0m",
            "\u001b[0;31mNameError\u001b[0m                                 Traceback (most recent call last)",
            "\u001b[0;32m<ipython-input-2-0dd82478a21b>\u001b[0m in \u001b[0;36m<module>\u001b[0;34m()\u001b[0m\n\u001b[0;32m----> 1\u001b[0;31m \u001b[0mhw\u001b[0m \u001b[0;34m=\u001b[0m \u001b[0mhello\u001b[0m \u001b[0;34m+\u001b[0m \u001b[0;34m' '\u001b[0m \u001b[0;34m+\u001b[0m \u001b[0mworld\u001b[0m \u001b[0;31m# string concatenation\u001b[0m\u001b[0;34m\u001b[0m\u001b[0;34m\u001b[0m\u001b[0m\n\u001b[0m\u001b[1;32m      2\u001b[0m \u001b[0mprint\u001b[0m\u001b[0;34m(\u001b[0m\u001b[0mhw\u001b[0m\u001b[0;34m)\u001b[0m\u001b[0;34m\u001b[0m\u001b[0;34m\u001b[0m\u001b[0m\n",
            "\u001b[0;31mNameError\u001b[0m: name 'hello' is not defined"
          ]
        }
      ]
    },
    {
      "cell_type": "code",
      "source": [
        "hw12 = '%s %s %d' % (hello, world, 12) # string formatting\n",
        "print(hw12) \n"
      ],
      "metadata": {
        "colab": {
          "base_uri": "https://localhost:8080/"
        },
        "id": "G9di4YFOepN4",
        "outputId": "1161c92f-e67f-4c94-c73d-52c0eabf87b3"
      },
      "execution_count": null,
      "outputs": [
        {
          "output_type": "stream",
          "name": "stdout",
          "text": [
            "hello world 12\n"
          ]
        }
      ]
    },
    {
      "cell_type": "code",
      "source": [
        "# Built-in functions for string operations\n",
        "s = \"hello\"\n",
        "print(s.capitalize())\n",
        "print(s.upper())\n",
        "print(s.lower())\n",
        "print(s.replace('l', '(ell)')) \n",
        "\n",
        "print(' hello \\\n",
        "world   \\n\\n \\\n",
        "'.strip() ) # removing white space from the ends of the string"
      ],
      "metadata": {
        "colab": {
          "base_uri": "https://localhost:8080/"
        },
        "id": "6NxAKmSBeuzX",
        "outputId": "04d4b195-4056-4b72-c5a0-13da47a0328e"
      },
      "execution_count": null,
      "outputs": [
        {
          "output_type": "stream",
          "name": "stdout",
          "text": [
            "Hello\n",
            "HELLO\n",
            "hello\n",
            "he(ell)(ell)o\n",
            "hello world\n"
          ]
        }
      ]
    },
    {
      "cell_type": "code",
      "source": [
        "long_string = \"This is a multi-word string.   many words\"\n",
        "print(long_string.split()) # splitting into words. Lately we will see more sophisticated functions for this"
      ],
      "metadata": {
        "colab": {
          "base_uri": "https://localhost:8080/"
        },
        "id": "k9A1hA3vkA0Z",
        "outputId": "4ce9718f-640c-47a1-bacd-09224f98d671"
      },
      "execution_count": null,
      "outputs": [
        {
          "output_type": "stream",
          "name": "stdout",
          "text": [
            "['This', 'is', 'a', 'multi-word', 'string.', 'many', 'words']\n"
          ]
        }
      ]
    },
    {
      "cell_type": "markdown",
      "source": [
        "#### Liste"
      ],
      "metadata": {
        "id": "iZsyjuQXdRj1"
      }
    },
    {
      "cell_type": "code",
      "source": [
        "l = [] # lista vida\n"
      ],
      "metadata": {
        "id": "XwBVVJCAQv2C"
      },
      "execution_count": null,
      "outputs": []
    },
    {
      "cell_type": "code",
      "source": [
        "xs = [3, 1, 2]\n",
        "print(xs, xs[2])\n",
        "print(xs[-1]) # ultimul element\n",
        "# listele sunt mutabile, elementele pot fi modificate intern\n",
        "xs[2] = 'foo'\n",
        "print(xs)"
      ],
      "metadata": {
        "colab": {
          "base_uri": "https://localhost:8080/"
        },
        "id": "32vnzNuIfhTm",
        "outputId": "051b4ccb-cbd4-452a-ec1f-f334ee99b200"
      },
      "execution_count": null,
      "outputs": [
        {
          "output_type": "stream",
          "name": "stdout",
          "text": [
            "[3, 1, 2] 2\n",
            "2\n",
            "[3, 1, 'foo']\n"
          ]
        }
      ]
    },
    {
      "cell_type": "code",
      "source": [
        "l1 = [1, 2, 3]\n",
        "l2 = [4, 5, 6, 7]\n",
        "nums = l1 + l2\n",
        "print(nums)"
      ],
      "metadata": {
        "colab": {
          "base_uri": "https://localhost:8080/"
        },
        "id": "NWjYpdanfRNU",
        "outputId": "03050159-e2ed-4309-ba8c-ef2b971390c3"
      },
      "execution_count": null,
      "outputs": [
        {
          "output_type": "stream",
          "name": "stdout",
          "text": [
            "[1, 2, 3, 4, 5, 6, 7]\n"
          ]
        }
      ]
    },
    {
      "cell_type": "code",
      "source": [
        "xs.append('bar')\n",
        "xs += ['foobar'] # xs = xs + ['foobar'] # xs.append('foobar')\n",
        "print(xs)"
      ],
      "metadata": {
        "colab": {
          "base_uri": "https://localhost:8080/"
        },
        "id": "ULpMuWbFf3Y_",
        "outputId": "a3e0c63c-3451-4dda-b759-65a9f164714d"
      },
      "execution_count": null,
      "outputs": [
        {
          "output_type": "stream",
          "name": "stdout",
          "text": [
            "[3, 1, 'foo', 'bar', 'foobar', 'bar', 'foobar']\n"
          ]
        }
      ]
    },
    {
      "cell_type": "code",
      "source": [
        "# Slicing\n",
        "print(nums[2:4])\n",
        "print(nums[2:])\n",
        "print(nums[:2])"
      ],
      "metadata": {
        "colab": {
          "base_uri": "https://localhost:8080/"
        },
        "id": "vZUJF7CxgF1D",
        "outputId": "0a48b787-4ec1-4484-d918-59d55bfd641d"
      },
      "execution_count": null,
      "outputs": [
        {
          "output_type": "stream",
          "name": "stdout",
          "text": [
            "[3, 4]\n",
            "[3, 4, 5, 6, 7]\n",
            "[1, 2]\n"
          ]
        }
      ]
    },
    {
      "cell_type": "code",
      "source": [
        "# Stringurile sunt liste de caractere\n",
        "hello = \"hello\"\n",
        "print(hello[1])"
      ],
      "metadata": {
        "colab": {
          "base_uri": "https://localhost:8080/"
        },
        "id": "iZJnc0q1fReV",
        "outputId": "9b47d89a-dc59-4761-c774-e454d6d796ea"
      },
      "execution_count": null,
      "outputs": [
        {
          "output_type": "stream",
          "name": "stdout",
          "text": [
            "e\n"
          ]
        }
      ]
    },
    {
      "cell_type": "code",
      "source": [
        "# Iterarea printr-un sir de caractere litera cu litera\n",
        "for i in range(len(hello)): # 0 1 2 3 4\n",
        "  print(hello[i])\n",
        "\n",
        "for c in hello:\n",
        "  print(c)"
      ],
      "metadata": {
        "colab": {
          "base_uri": "https://localhost:8080/"
        },
        "id": "PJL-TaIzfYQS",
        "outputId": "fc155295-854d-4c54-beac-115f3f4c0d2c"
      },
      "execution_count": null,
      "outputs": [
        {
          "output_type": "stream",
          "name": "stdout",
          "text": [
            "h\n",
            "e\n",
            "l\n",
            "l\n",
            "o\n"
          ]
        }
      ]
    },
    {
      "cell_type": "code",
      "source": [
        "print(hw[0])\n",
        "# stringurile nu sunt mutabile\n",
        "hw[0] = 'x'\n",
        "hw.replace('h', 'x') # ok"
      ],
      "metadata": {
        "colab": {
          "base_uri": "https://localhost:8080/",
          "height": 226
        },
        "id": "uPo4XRp1dUwg",
        "outputId": "03e6a562-2f65-4e61-8bd8-d6bec0466fe3"
      },
      "execution_count": null,
      "outputs": [
        {
          "output_type": "stream",
          "name": "stdout",
          "text": [
            "h\n"
          ]
        },
        {
          "output_type": "error",
          "ename": "TypeError",
          "evalue": "ignored",
          "traceback": [
            "\u001b[0;31m---------------------------------------------------------------------------\u001b[0m",
            "\u001b[0;31mTypeError\u001b[0m                                 Traceback (most recent call last)",
            "\u001b[0;32m<ipython-input-52-26739dee9c9f>\u001b[0m in \u001b[0;36m<module>\u001b[0;34m()\u001b[0m\n\u001b[1;32m      1\u001b[0m \u001b[0mprint\u001b[0m\u001b[0;34m(\u001b[0m\u001b[0mhw\u001b[0m\u001b[0;34m[\u001b[0m\u001b[0;36m0\u001b[0m\u001b[0;34m]\u001b[0m\u001b[0;34m)\u001b[0m\u001b[0;34m\u001b[0m\u001b[0;34m\u001b[0m\u001b[0m\n\u001b[1;32m      2\u001b[0m \u001b[0;31m# stringurile nu sunt mutabile\u001b[0m\u001b[0;34m\u001b[0m\u001b[0;34m\u001b[0m\u001b[0;34m\u001b[0m\u001b[0m\n\u001b[0;32m----> 3\u001b[0;31m \u001b[0mhw\u001b[0m\u001b[0;34m[\u001b[0m\u001b[0;36m0\u001b[0m\u001b[0;34m]\u001b[0m \u001b[0;34m=\u001b[0m \u001b[0;34m'x'\u001b[0m\u001b[0;34m\u001b[0m\u001b[0;34m\u001b[0m\u001b[0m\n\u001b[0m",
            "\u001b[0;31mTypeError\u001b[0m: 'str' object does not support item assignment"
          ]
        }
      ]
    },
    {
      "cell_type": "code",
      "source": [
        "nums = [1, 2, 3, 4, 5]\n",
        "if 3 in nums:\n",
        "  print(\"3 is in the list\")\n",
        "else:\n",
        "  print(\"3 is not in the list\")"
      ],
      "metadata": {
        "colab": {
          "base_uri": "https://localhost:8080/"
        },
        "id": "R6w-EFIugilM",
        "outputId": "e3746e81-9748-4f56-db0d-de908a5ba951"
      },
      "execution_count": null,
      "outputs": [
        {
          "output_type": "stream",
          "name": "stdout",
          "text": [
            "3 is in the list\n"
          ]
        }
      ]
    },
    {
      "cell_type": "code",
      "source": [
        "# Putem scrie codul mult mai scurt (nu neaparat mai simplu !!!) folosind list comprehensions:\n",
        "nums = [0, 1, 2, 3, 4]\n",
        "squares = [x ** 2 for x in nums]\n",
        "print(squares)"
      ],
      "metadata": {
        "colab": {
          "base_uri": "https://localhost:8080/"
        },
        "id": "VEopHLvYgqdM",
        "outputId": "958f7b88-4148-4efd-d8da-9da2c99a454b"
      },
      "execution_count": null,
      "outputs": [
        {
          "output_type": "stream",
          "name": "stdout",
          "text": [
            "[0, 1, 4, 9, 16]\n"
          ]
        }
      ]
    },
    {
      "cell_type": "markdown",
      "source": [
        "#### Dictionare\n",
        "\n",
        "Perechi cheie, valoare"
      ],
      "metadata": {
        "id": "zL9-p6A7PVsQ"
      }
    },
    {
      "cell_type": "code",
      "source": [
        "d = {'cat': 'cute', 'dog': 'furry'}\n",
        "print(d)\n",
        "#d = {'cat': 1, 'dog': 2, 'other': 3}\n"
      ],
      "metadata": {
        "colab": {
          "base_uri": "https://localhost:8080/"
        },
        "id": "u-xWgGkpgb7b",
        "outputId": "93796448-ae08-4280-d4c2-1221673d9cf1"
      },
      "execution_count": null,
      "outputs": [
        {
          "output_type": "stream",
          "name": "stdout",
          "text": [
            "{'cat': 'cute', 'dog': 'furry'}\n"
          ]
        }
      ]
    },
    {
      "cell_type": "code",
      "source": [
        "print(d['cat'])\n",
        "print('cat' in d)\n",
        "d['fish'] = 'wet' # 'fish': 'wet\n",
        "print(d['fish'])"
      ],
      "metadata": {
        "colab": {
          "base_uri": "https://localhost:8080/"
        },
        "id": "As29hY-8gf4H",
        "outputId": "05726d9a-86d3-4f80-bd10-14f93aad8632"
      },
      "execution_count": null,
      "outputs": [
        {
          "output_type": "stream",
          "name": "stdout",
          "text": [
            "cute\n",
            "True\n",
            "wet\n"
          ]
        }
      ]
    },
    {
      "cell_type": "markdown",
      "source": [
        "Sets"
      ],
      "metadata": {
        "id": "uQ87SeD4dXfA"
      }
    },
    {
      "cell_type": "code",
      "source": [
        "animals = {'cat', 'dog'} # Set: unique elements\n",
        "print('cat' in animals)\n",
        "print('fish' in animals)"
      ],
      "metadata": {
        "colab": {
          "base_uri": "https://localhost:8080/"
        },
        "id": "3lDSe9Kcg2VH",
        "outputId": "bc40db83-b1b3-4b2d-f083-9be8a610ff35"
      },
      "execution_count": null,
      "outputs": [
        {
          "output_type": "stream",
          "name": "stdout",
          "text": [
            "True\n",
            "False\n"
          ]
        }
      ]
    },
    {
      "cell_type": "code",
      "source": [
        "A = {1, 2, 3, 4, 5}\n",
        "B = {4, 5, 6, 7, 8}\n",
        "# union\n",
        "print(A | B)\n",
        "print(A.union(B))\n",
        "\n",
        "# intersection\n",
        "print(A & B)\n",
        "print(A.intersection(B))\n",
        "\n",
        "# diferenta\n",
        "print(A - B)\n",
        "print(A.difference(B))\n",
        "\n",
        "# diferenta simetrica - elementele din reuniune care nu sunt in intersectie\n",
        "print(A ^ B) # Afiseaza {1, 2, 3, 6, 7, 8}\n",
        "A.symmetric_difference(B)"
      ],
      "metadata": {
        "colab": {
          "base_uri": "https://localhost:8080/"
        },
        "id": "lBXfRamIg-hM",
        "outputId": "53e52366-40a2-4f29-e6fa-c8fb6ccb3be4"
      },
      "execution_count": null,
      "outputs": [
        {
          "output_type": "stream",
          "name": "stdout",
          "text": [
            "{1, 2, 3, 4, 5, 6, 7, 8}\n",
            "{1, 2, 3, 4, 5, 6, 7, 8}\n",
            "{4, 5}\n",
            "{4, 5}\n",
            "{1, 2, 3}\n",
            "{1, 2, 3}\n",
            "{1, 2, 3, 6, 7, 8}\n"
          ]
        },
        {
          "output_type": "execute_result",
          "data": {
            "text/plain": [
              "{1, 2, 3, 6, 7, 8}"
            ]
          },
          "metadata": {},
          "execution_count": 70
        }
      ]
    },
    {
      "cell_type": "markdown",
      "source": [
        "#### Tuples"
      ],
      "metadata": {
        "id": "hGtbMalJhN-6"
      }
    },
    {
      "cell_type": "code",
      "source": [
        "# Tuples: similar to lists but immutable (can be used as keys in dictionaries)\n",
        "t = (1,2,3,3,3,4)\n",
        "print(t)\n"
      ],
      "metadata": {
        "colab": {
          "base_uri": "https://localhost:8080/"
        },
        "id": "ZIoYIQZQhBr0",
        "outputId": "342938c8-90e9-4ece-f75f-0999ce1ae4a4"
      },
      "execution_count": null,
      "outputs": [
        {
          "output_type": "stream",
          "name": "stdout",
          "text": [
            "(1, 2, 3, 3, 3, 4)\n"
          ]
        }
      ]
    },
    {
      "cell_type": "markdown",
      "source": [
        "## Intrebari"
      ],
      "metadata": {
        "id": "1NGCA_U9jmPL"
      }
    },
    {
      "cell_type": "code",
      "source": [
        "???"
      ],
      "metadata": {
        "id": "fepL4SJWjqFQ"
      },
      "execution_count": null,
      "outputs": []
    },
    {
      "cell_type": "markdown",
      "source": [
        "## Exercitii"
      ],
      "metadata": {
        "id": "ogxkQqKPjqVS"
      }
    },
    {
      "cell_type": "markdown",
      "source": [
        "1. Se dau variabilele a, b si c cu valorile 5, -9, 12. Calculati media aritmetica si stocati-o intr-o variabila m."
      ],
      "metadata": {
        "id": "oO7glQWcPg9G"
      }
    },
    {
      "cell_type": "code",
      "source": [
        "a = 5\n",
        "b = -9\n",
        "c = 12\n",
        "m=(a+b+c)/3\n",
        "print(m)"
      ],
      "metadata": {
        "id": "cGebZsesP0ut",
        "colab": {
          "base_uri": "https://localhost:8080/"
        },
        "outputId": "1444fce4-58e6-4b63-9f93-3b71206f3f06"
      },
      "execution_count": null,
      "outputs": [
        {
          "output_type": "stream",
          "name": "stdout",
          "text": [
            "2.6666666666666665\n"
          ]
        }
      ]
    },
    {
      "cell_type": "markdown",
      "source": [
        "2. Verificati daca media obtinuta este un numar pozitiv, si afisati un mesaj corespunzator.\n",
        "\n",
        "Construiti o solutie care foloseste structura decizionala (`if`), si o alta solutie care afiseaza mesajul dintr-un singur rand de cod."
      ],
      "metadata": {
        "id": "P5yB5DYeP3sf"
      }
    },
    {
      "cell_type": "code",
      "source": [
        "if(m>=0):\n",
        "  print('media este pozitiva')"
      ],
      "metadata": {
        "id": "EMyakhMmP3bo",
        "colab": {
          "base_uri": "https://localhost:8080/"
        },
        "outputId": "ccf29f95-ba7c-4107-ab1d-526d336d229d"
      },
      "execution_count": null,
      "outputs": [
        {
          "output_type": "stream",
          "name": "stdout",
          "text": [
            "media este pozitiva\n"
          ]
        }
      ]
    },
    {
      "cell_type": "code",
      "source": [
        "if(m>=0):print('media este pozitiva')"
      ],
      "metadata": {
        "colab": {
          "base_uri": "https://localhost:8080/"
        },
        "id": "S4-Uaqy4jslP",
        "outputId": "8bed4d54-2b96-4bf7-b8c1-595c80f4b8ac"
      },
      "execution_count": null,
      "outputs": [
        {
          "output_type": "stream",
          "name": "stdout",
          "text": [
            "media este pozitiva\n"
          ]
        }
      ]
    },
    {
      "cell_type": "markdown",
      "source": [
        "3. Se da un numar intreg x si un numar intreg y. Alegeti niste valori pentru fiecare, apoi verificati daca numarul x se imparte exact la y. Afisati un mesaj corespunzator."
      ],
      "metadata": {
        "id": "5KXzrrdJQEmR"
      }
    },
    {
      "cell_type": "code",
      "source": [
        "x = 45\n",
        "y = 4\n",
        "if(x%y==0):\n",
        "  print('y il divide pe x')\n",
        "else:\n",
        "  print('y nu il divide pe x')\n"
      ],
      "metadata": {
        "id": "PhnldC3aQERB",
        "colab": {
          "base_uri": "https://localhost:8080/"
        },
        "outputId": "26a4da22-b597-4799-a208-1ebb1f3e8dea"
      },
      "execution_count": null,
      "outputs": [
        {
          "output_type": "stream",
          "name": "stdout",
          "text": [
            "y nu il divide pe x\n"
          ]
        }
      ]
    },
    {
      "cell_type": "markdown",
      "source": [
        "4. Se da cuvantul \"garoafe\". Stocati-l intr-o variabila. Numarati cate vocale apar in cuvant.\n",
        "\n",
        "Hint: folositi o lista predefinita care contine toate vocalele\n"
      ],
      "metadata": {
        "id": "ap6hS6RgRE2b"
      }
    },
    {
      "cell_type": "code",
      "source": [
        "x='garoafe'\n",
        "vocale=[a for a in x if(a in 'aeiou')]\n",
        "print(len(vocale))"
      ],
      "metadata": {
        "id": "OM1Lbucyh_UY",
        "colab": {
          "base_uri": "https://localhost:8080/"
        },
        "outputId": "c9b82e02-000e-4c98-b6fe-28461c0a4c25"
      },
      "execution_count": null,
      "outputs": [
        {
          "output_type": "stream",
          "name": "stdout",
          "text": [
            "4\n"
          ]
        }
      ]
    },
    {
      "cell_type": "markdown",
      "source": [
        "5. Se da o lista de numere. Calculati suma numerelor si stocati-o intr-o variabila noua."
      ],
      "metadata": {
        "id": "VhM3DCEIi4Nn"
      }
    },
    {
      "cell_type": "code",
      "source": [
        "l = [1, 7.8, 2, 4, 10, 32.12]\n",
        "s=sum(l)\n",
        "print(s)"
      ],
      "metadata": {
        "id": "ReVIYFiOi96-",
        "colab": {
          "base_uri": "https://localhost:8080/"
        },
        "outputId": "234e4299-ade2-4323-e6ad-437628f140be"
      },
      "execution_count": null,
      "outputs": [
        {
          "output_type": "stream",
          "name": "stdout",
          "text": [
            "56.92\n"
          ]
        }
      ]
    },
    {
      "cell_type": "markdown",
      "source": [
        "6. Se da un numar x. Afisati pe rand fiecare cifra din numarul x. Calculati suma cifrelor lui x."
      ],
      "metadata": {
        "id": "R7pB41rdiA1A"
      }
    },
    {
      "cell_type": "code",
      "source": [
        "x = 47292\n",
        "s=0\n",
        "l=[int(s) for s in str(x)]\n",
        "for d in l:\n",
        "  print(d)\n",
        "  s+=d\n",
        "print(f'suma este {s}')"
      ],
      "metadata": {
        "id": "77_NmvYgiMHu",
        "colab": {
          "base_uri": "https://localhost:8080/"
        },
        "outputId": "f0d85cea-7c33-49b3-b2bd-ec46478eaaf8"
      },
      "execution_count": null,
      "outputs": [
        {
          "output_type": "stream",
          "name": "stdout",
          "text": [
            "4\n",
            "7\n",
            "2\n",
            "9\n",
            "2\n",
            "suma este 24\n"
          ]
        }
      ]
    },
    {
      "cell_type": "markdown",
      "source": [
        "7. Se da o lista de cuvinte. Construiti un sir care concateneaza la un loc toate cuvintele din lista."
      ],
      "metadata": {
        "id": "YeyKLVpJiNuI"
      }
    },
    {
      "cell_type": "code",
      "source": [
        "cuvinte = [\"un\", \"cuvant\", \"mai\", \"multe\", \"alt\", \"pisica\"]\n",
        "sir=''\n",
        "for cuv in cuvinte:\n",
        "  sir+=cuv\n",
        "\n",
        "print(sir)"
      ],
      "metadata": {
        "id": "aUE4FCd1iM6B",
        "colab": {
          "base_uri": "https://localhost:8080/"
        },
        "outputId": "8eee297d-8daf-4917-99a0-fbeccb41a6f6"
      },
      "execution_count": null,
      "outputs": [
        {
          "output_type": "stream",
          "name": "stdout",
          "text": [
            "uncuvantmaimultealtpisica\n"
          ]
        }
      ]
    },
    {
      "cell_type": "markdown",
      "source": [
        "8. Se da un text format din mai multe cuvinte stocat intr-un sir de caractere t. Sa se imparta textul in cuvinte si sa se retina cuvintele gasite intr-o multime (set)."
      ],
      "metadata": {
        "id": "eVRJP82UipdN"
      }
    },
    {
      "cell_type": "code",
      "source": [
        "t = \"un text mai lung format din mai multe cuvinte . poate aparea acelasi cuvant de mai multe ori .\"\n",
        "t =t.replace('.','')\n",
        "s =[cuv for cuv in t.split()]\n",
        "print(s)"
      ],
      "metadata": {
        "id": "AUMaAYbKkti2",
        "colab": {
          "base_uri": "https://localhost:8080/"
        },
        "outputId": "47d0c8dd-9ea0-4e2c-8668-1a4ef7288845"
      },
      "execution_count": null,
      "outputs": [
        {
          "output_type": "stream",
          "name": "stdout",
          "text": [
            "un text mai lung format din mai multe cuvinte  poate aparea acelasi cuvant de mai multe ori \n",
            "['un', 'text', 'mai', 'lung', 'format', 'din', 'mai', 'multe', 'cuvinte', 'poate', 'aparea', 'acelasi', 'cuvant', 'de', 'mai', 'multe', 'ori']\n"
          ]
        }
      ]
    },
    {
      "cell_type": "markdown",
      "source": [
        "9. Construiti un dictionar care sa creeze pentru fiecare cuvant dintr-un text cate un index numeric (in ordine crescatoare de la nr 1, ....). Cuvintele vor fi chei, iar indecsii numerici vor fi valori in dictionarul construit."
      ],
      "metadata": {
        "id": "S2TTJ8oilN86"
      }
    },
    {
      "cell_type": "code",
      "source": [
        "d=dict(zip(list(range(1, len(s)+1)), s))\n",
        "print(d)"
      ],
      "metadata": {
        "colab": {
          "base_uri": "https://localhost:8080/"
        },
        "id": "WzLew_rJjUMi",
        "outputId": "806d53e2-7dac-4bff-9750-2c42c9dde8b5"
      },
      "execution_count": null,
      "outputs": [
        {
          "output_type": "stream",
          "name": "stdout",
          "text": [
            "[1, 2, 3, 4, 5, 6, 7, 8, 9, 10, 11, 12, 13, 14, 15, 16, 17]\n",
            "{1: 'un', 2: 'text', 3: 'mai', 4: 'lung', 5: 'format', 6: 'din', 7: 'mai', 8: 'multe', 9: 'cuvinte', 10: 'poate', 11: 'aparea', 12: 'acelasi', 13: 'cuvant', 14: 'de', 15: 'mai', 16: 'multe', 17: 'ori'}\n"
          ]
        }
      ]
    },
    {
      "cell_type": "markdown",
      "source": [
        "10. Se da o lista de cuvinte. Creati o lista noua care pe locul fiecarui cuvant pune indexul sau din dictionarul definit anterior, iar daca cuvantul nu exista in dictionar pune valoarea 0.\n",
        "\n",
        "Exemplu: [\"un\", \"catel\", \"si\", \"o\", \"pisica\"] -> [2, 1, 4, 5, 3]"
      ],
      "metadata": {
        "id": "UW_QIjn8lbxr"
      }
    },
    {
      "cell_type": "code",
      "source": [
        "lista = ['lung', 'acelasi', 'pisica', 'mai', 'catel']\n",
        "for key, cuv in d.items():\n",
        "  if cuv in lista:\n",
        "    lista[lista.index(cuv)]=key\n",
        "\n",
        "for l in lista:\n",
        "  if(type(l)==str):\n",
        "    lista[lista.index(l)]=0\n",
        "\n",
        "print(lista)"
      ],
      "metadata": {
        "id": "t7pOiFpplx5l",
        "colab": {
          "base_uri": "https://localhost:8080/"
        },
        "outputId": "3cd3e21e-6fe1-4e59-bc59-ab0cf69f2c45"
      },
      "execution_count": null,
      "outputs": [
        {
          "output_type": "stream",
          "name": "stdout",
          "text": [
            "[4, 12, 0, 3, 0]\n"
          ]
        }
      ]
    }
  ]
}