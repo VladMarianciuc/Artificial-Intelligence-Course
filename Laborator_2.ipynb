{
  "nbformat": 4,
  "nbformat_minor": 0,
  "metadata": {
    "colab": {
      "provenance": [],
      "include_colab_link": true
    },
    "kernelspec": {
      "name": "python3",
      "display_name": "Python 3"
    },
    "language_info": {
      "name": "python"
    }
  },
  "cells": [
    {
      "cell_type": "markdown",
      "metadata": {
        "id": "view-in-github",
        "colab_type": "text"
      },
      "source": [
        "<a href=\"https://colab.research.google.com/github/VladMarianciuc/Artificial-Intelligence-Course/blob/main/Laborator_2.ipynb\" target=\"_parent\"><img src=\"https://colab.research.google.com/assets/colab-badge.svg\" alt=\"Open In Colab\"/></a>"
      ]
    },
    {
      "cell_type": "markdown",
      "source": [
        "# Reprezentare grafuri"
      ],
      "metadata": {
        "id": "d8kJq86fc4TU"
      }
    },
    {
      "cell_type": "markdown",
      "source": [
        "Matrice de adiacenta"
      ],
      "metadata": {
        "id": "ejwfVtwecmgQ"
      }
    },
    {
      "cell_type": "code",
      "source": [
        "m=[\n",
        "[0,1,1,1],\n",
        "[1,0,0,1],\n",
        "[1,0,0,0],\n",
        "[1,1,0,0],\n",
        "]"
      ],
      "metadata": {
        "id": "sxzuBIxYcnja"
      },
      "execution_count": null,
      "outputs": []
    },
    {
      "cell_type": "markdown",
      "source": [
        "Vector de noduri si de muchii"
      ],
      "metadata": {
        "id": "ZNXhs9oKcpYe"
      }
    },
    {
      "cell_type": "code",
      "source": [
        "graf={\n",
        "    \"noduri\": [1,2,3,4],\n",
        "    \"muchii\": [(1,2), (1,3), (1,4), (2,1), (2,4), (3,1),(4,1),(4,2)]\n",
        "}"
      ],
      "metadata": {
        "id": "t-zqVuE8cqxX"
      },
      "execution_count": null,
      "outputs": []
    },
    {
      "cell_type": "code",
      "source": [
        "graf={\n",
        "    \"noduri\": [1,2,3,4],\n",
        "    \"muchii\": [(1,2), (1,3), (1,4), (2,4)]\n",
        "}"
      ],
      "metadata": {
        "id": "Vqe-k82LcrQd"
      },
      "execution_count": null,
      "outputs": []
    },
    {
      "cell_type": "markdown",
      "source": [
        "Liste de vecini"
      ],
      "metadata": {
        "id": "Sfz6ukwDcrqF"
      }
    },
    {
      "cell_type": "code",
      "source": [
        "graf={\n",
        "    1: [2,3,4],\n",
        "    2: [1, 4],\n",
        "    3: [1],\n",
        "    4: [1, 2]\n",
        "}"
      ],
      "metadata": {
        "id": "pidJ_P8kcvf7"
      },
      "execution_count": null,
      "outputs": []
    },
    {
      "cell_type": "code",
      "source": [
        "graf={\n",
        "    1: [2,3],\n",
        "    2: [1, 3, 5],\n",
        "    3: [1],\n",
        "    4: [1, 2]\n",
        "}\n"
      ],
      "metadata": {
        "id": "CRaC85VQcxP0"
      },
      "execution_count": null,
      "outputs": []
    },
    {
      "cell_type": "code",
      "source": [],
      "metadata": {
        "id": "AAPbJClGcybQ"
      },
      "execution_count": null,
      "outputs": []
    },
    {
      "cell_type": "markdown",
      "source": [
        "# Parcurgere grafuri"
      ],
      "metadata": {
        "id": "Y2Md7Pwkc0zY"
      }
    },
    {
      "cell_type": "markdown",
      "source": [
        "...Data viitoare!"
      ],
      "metadata": {
        "id": "IjlYSOy3c3WP"
      }
    },
    {
      "cell_type": "code",
      "source": [],
      "metadata": {
        "id": "cCEUsX5Wc2Xp"
      },
      "execution_count": null,
      "outputs": []
    },
    {
      "cell_type": "markdown",
      "source": [
        "# Exercitii\n"
      ],
      "metadata": {
        "id": "Krr7VzQmc9nP"
      }
    },
    {
      "cell_type": "markdown",
      "source": [
        "1. Scrieti o functie care primeste ca argument un graf reprezentat ca matrice de adiacenta si returneaza graful reprezentat printr-un dictionar cu liste de vecini."
      ],
      "metadata": {
        "id": "UnAkBbGqdCjW"
      }
    },
    {
      "cell_type": "code",
      "source": [
        "keys=list(range(1,len(m)+1))\n",
        "values=[]\n",
        "d=dict(zip(keys,[[] for x in keys]))\n",
        "\n",
        "for i, el in enumerate(m):\n",
        "  for j, l in enumerate(el):\n",
        "    if (l==1):\n",
        "      d[i+1].append(j+1)\n",
        "\n",
        "print(d)\n",
        "\n"
      ],
      "metadata": {
        "id": "rXW5AkLvdBh2",
        "colab": {
          "base_uri": "https://localhost:8080/"
        },
        "outputId": "2b9c5f3f-b5fe-4c55-ade7-2671494107d9"
      },
      "execution_count": null,
      "outputs": [
        {
          "output_type": "stream",
          "name": "stdout",
          "text": [
            "{1: [2, 3, 4], 2: [1, 4], 3: [1], 4: [1, 2]}\n"
          ]
        }
      ]
    }
  ]
}